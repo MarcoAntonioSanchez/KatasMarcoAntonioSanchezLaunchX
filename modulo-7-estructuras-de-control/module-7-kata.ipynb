{
 "cells": [
  {
   "cell_type": "markdown",
   "metadata": {},
   "source": [
    "### Ejercicio 1"
   ]
  },
  {
   "cell_type": "markdown",
   "metadata": {},
   "source": [
    "+ Declara dos variables"
   ]
  },
  {
   "cell_type": "code",
   "execution_count": 4,
   "metadata": {},
   "outputs": [],
   "source": [
    "new_planet = ''\n",
    "planets = []"
   ]
  },
  {
   "cell_type": "markdown",
   "metadata": {},
   "source": [
    "+ Escribe el ciclo while solicitado"
   ]
  },
  {
   "cell_type": "code",
   "execution_count": 5,
   "metadata": {},
   "outputs": [],
   "source": [
    "while new_planet.lower() != 'done':\n",
    "    if new_planet:\n",
    "        planets.append(new_planet)\n",
    "    new_planet = input('Enter a new planet ')"
   ]
  },
  {
   "cell_type": "markdown",
   "metadata": {},
   "source": [
    "### Ejercicio 2"
   ]
  },
  {
   "cell_type": "markdown",
   "metadata": {},
   "source": [
    "+ Escribe tu ciclo for para iterar en una lista de planetas"
   ]
  },
  {
   "cell_type": "code",
   "execution_count": 6,
   "metadata": {},
   "outputs": [
    {
     "name": "stdout",
     "output_type": "stream",
     "text": [
      "Earth\n",
      "Venus\n",
      "Mercury\n",
      "Pluto\n",
      "Mars\n",
      "Jupiter\n",
      "Moon\n"
     ]
    }
   ],
   "source": [
    "for planet in planets:\n",
    "    print(planet)"
   ]
  }
 ],
 "metadata": {
  "interpreter": {
   "hash": "f0d10d1da05b6ffdc60625afb4424684f2d669c7a3f25470f418e299ceb11c44"
  },
  "kernelspec": {
   "display_name": "Python 3.9.7 ('base')",
   "language": "python",
   "name": "python3"
  },
  "language_info": {
   "codemirror_mode": {
    "name": "ipython",
    "version": 3
   },
   "file_extension": ".py",
   "mimetype": "text/x-python",
   "name": "python",
   "nbconvert_exporter": "python",
   "pygments_lexer": "ipython3",
   "version": "3.9.7"
  },
  "orig_nbformat": 4
 },
 "nbformat": 4,
 "nbformat_minor": 2
}
