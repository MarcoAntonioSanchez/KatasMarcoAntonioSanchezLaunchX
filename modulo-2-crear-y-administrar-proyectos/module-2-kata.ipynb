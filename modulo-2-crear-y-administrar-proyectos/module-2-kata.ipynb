{
 "cells": [
  {
   "cell_type": "markdown",
   "metadata": {},
   "source": [
    "# Crear un entorno virtual"
   ]
  },
  {
   "cell_type": "markdown",
   "metadata": {},
   "source": [
    "\n",
    "![title](img/entorno.png)\n"
   ]
  },
  {
   "cell_type": "markdown",
   "metadata": {},
   "source": [
    "## Activar el entorno virtual\n",
    "\n",
    "![title](img/activate.png)\n"
   ]
  },
  {
   "cell_type": "markdown",
   "metadata": {},
   "source": [
    "## Instalar un paquete\n",
    "\n",
    "Para saber que paquetes están instalados en el entorno virtual, se ejcuta el comando pip freeze, el cual listará en la consola los paquetes (nombre y versión)\n",
    "\n",
    "![title](img/freeze.png)\n",
    "\n",
    "Para instalar un paquete, se ejecuta un comando pip install\n",
    "\n",
    "pip install python-dateutil\n",
    "\n",
    "![title](img/dateutil.png)\n",
    "\n",
    "Ejecutando el comando anterior, descargará e instalará dateutil, un paquete para analizar el formato de archivo .yml\n",
    "\n",
    "Al instalar el paquete anterior se reflejará un nuevo directorio con el nombre dateutil\n",
    "\n",
    "Para salir del entorno virtual se usa el comando deactivate en la terminal, al ejecutarlo se aprecia como el output de la consola regreso a no tener el (env) al principio\n",
    "\n",
    "![title](img/deactivate.png)"
   ]
  },
  {
   "cell_type": "markdown",
   "metadata": {},
   "source": [
    "## Mas formas de instalar paquetes\n",
    "\n",
    "+ Teniendo un conjunto de archivos en tu maquina e instalandolos desde esa fuente\n",
    "\n",
    "cd (directorio donde se encuentra el paquete)\n",
    "\n",
    "python3 -m pip install\n",
    "\n",
    "+ Instalar desde un repositorio de Github que nos proporciona el control de versiones:\n",
    "\n",
    "git+https://github.com/your-repo.git\n",
    "\n",
    "+ Instalar desde un archivo comprimido:\n",
    "\n",
    "python3 -m pip install package.tar.gz"
   ]
  },
  {
   "cell_type": "markdown",
   "metadata": {},
   "source": [
    "## Usar un paquete instalado\n",
    "\n",
    "Crear un archivo llamado app.py y ejecutarlo vía consola\n",
    "\n",
    "![title](img/apppy.png)\n",
    "\n",
    "Recomendación: guardar el archivo en una carpeta llamada src\n",
    "\n",
    "![title](img/src.png)"
   ]
  }
 ],
 "metadata": {
  "interpreter": {
   "hash": "f0d10d1da05b6ffdc60625afb4424684f2d669c7a3f25470f418e299ceb11c44"
  },
  "kernelspec": {
   "display_name": "Python 3.9.7 ('base')",
   "language": "python",
   "name": "python3"
  },
  "language_info": {
   "codemirror_mode": {
    "name": "ipython",
    "version": 3
   },
   "file_extension": ".py",
   "mimetype": "text/x-python",
   "name": "python",
   "nbconvert_exporter": "python",
   "pygments_lexer": "ipython3",
   "version": "3.9.7"
  },
  "orig_nbformat": 4
 },
 "nbformat": 4,
 "nbformat_minor": 2
}
