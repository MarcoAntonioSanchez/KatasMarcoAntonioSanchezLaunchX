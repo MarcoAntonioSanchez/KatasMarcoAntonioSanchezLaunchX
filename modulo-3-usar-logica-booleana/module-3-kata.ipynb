{
 "cells": [
  {
   "cell_type": "markdown",
   "metadata": {},
   "source": [
    "+ Añadir el código necesario para crear una variable que guarde la velocidad del asteroide\n",
    "+ Escribe una expresión de prueba para calcular si necesita una advertencia\n",
    "+ Agregue las instrucciones que se ejecutarán si la expresón de prueba es true o false\n"
   ]
  },
  {
   "cell_type": "code",
   "execution_count": 23,
   "metadata": {},
   "outputs": [
    {
     "name": "stdout",
     "output_type": "stream",
     "text": [
      "Advertencia el asteroide tiene una velocidad de 100\n"
     ]
    }
   ],
   "source": [
    "asteroide = 49\n",
    "if asteroide > 25:\n",
    "    print(\"Advertencia se acerca un asteroide\")\n",
    "else:\n",
    "    print(\"Puedes seguir con tu día\")"
   ]
  },
  {
   "cell_type": "markdown",
   "metadata": {},
   "source": [
    "+ Agrega el código para crear una variable para un asteroide que viaja a 19 km/s\n",
    "+ Escribe varias expresiones de prueba para determinar si puedes ver el rayo de luz desde la tierra\n",
    "+ Agrega las instrucciones que se ejecutarán si las expresiones de prueba son True o False"
   ]
  },
  {
   "cell_type": "code",
   "execution_count": 3,
   "metadata": {},
   "outputs": [
    {
     "name": "stdout",
     "output_type": "stream",
     "text": [
      "No hay luz en el cielo\n"
     ]
    }
   ],
   "source": [
    "asteroide = 19\n",
    "if asteroide > 20:\n",
    "    print(\"Mira hay una luz en el cielo!\")\n",
    "elif asteroide == 20:\n",
    "    print(\"Mira hay un asteroide en el cielo!\")\n",
    "else:\n",
    "    print(\"No hay luz en el cielo\")"
   ]
  },
  {
   "cell_type": "markdown",
   "metadata": {},
   "source": [
    "+ Agrega el código para crear nueva variables para la velocidad y el tamaño del asteroide\n",
    "+ Para probar el código, prueba con varias velocidades y tamaños\n",
    "+ Escrive varias expresiones de prueva o combinaciones de expresiones de prueba para determinar que mensaje se debe enviar a tierra."
   ]
  },
  {
   "cell_type": "code",
   "execution_count": 4,
   "metadata": {},
   "outputs": [
    {
     "name": "stdout",
     "output_type": "stream",
     "text": [
      "Alerta un asteroide se acerca!\n"
     ]
    }
   ],
   "source": [
    "velocidadAsteroide = 25\n",
    "tamanoAsteroide = 40\n",
    "if velocidadAsteroide > 25 and tamanoAsteroide > 25:\n",
    "    print(\"Alerta un asteroide se acerca!\")\n",
    "elif velocidadAsteroide >= 20:\n",
    "    print(\"Alerta un asteroide se acerca!\")\n",
    "elif tamanoAsteroide < 25:\n",
    "    print(\"No pasa nada\")\n",
    "else:\n",
    "    print(\"No pasa nada\")"
   ]
  }
 ],
 "metadata": {
  "interpreter": {
   "hash": "f0d10d1da05b6ffdc60625afb4424684f2d669c7a3f25470f418e299ceb11c44"
  },
  "kernelspec": {
   "display_name": "Python 3.9.7 ('base')",
   "language": "python",
   "name": "python3"
  },
  "language_info": {
   "codemirror_mode": {
    "name": "ipython",
    "version": 3
   },
   "file_extension": ".py",
   "mimetype": "text/x-python",
   "name": "python",
   "nbconvert_exporter": "python",
   "pygments_lexer": "ipython3",
   "version": "3.9.7"
  },
  "orig_nbformat": 4
 },
 "nbformat": 4,
 "nbformat_minor": 2
}
